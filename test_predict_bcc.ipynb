{
 "cells": [
  {
   "cell_type": "code",
   "execution_count": 68,
   "id": "99de6107-7d06-4b50-89cb-1d4ce15028e2",
   "metadata": {},
   "outputs": [],
   "source": [
    "import numpy as np"
   ]
  },
  {
   "cell_type": "code",
   "execution_count": 69,
   "id": "17a4779d-3083-45d8-82e3-4db7fa9177f3",
   "metadata": {},
   "outputs": [
    {
     "name": "stdout",
     "output_type": "stream",
     "text": [
      "✅ Model loaded successfully!\n"
     ]
    }
   ],
   "source": [
    "import joblib\n",
    "\n",
    "# Load the pipeline\n",
    "data = joblib.load(\"nids_lgbm_pipeline.pkl\")\n",
    "model = data[\"model\"]\n",
    "scaler = data[\"scaler\"]\n",
    "encoder = data[\"encoder\"]\n",
    "\n",
    "print(\"✅ Model loaded successfully!\")\n"
   ]
  },
  {
   "cell_type": "code",
   "execution_count": 76,
   "id": "897db68b-0452-4e04-9120-1e0b692878bd",
   "metadata": {
    "scrolled": true
   },
   "outputs": [
    {
     "name": "stdout",
     "output_type": "stream",
     "text": [
      "\n",
      "🎯 Prediction Results:\n",
      "   Actual Label Predicted Label\n",
      "0       ZERONET         ZERONET\n",
      "1       ZERONET         ZERONET\n",
      "2           VPN             VPN\n",
      "3           VPN             VPN\n",
      "4           TOR             TOR\n",
      "5           I2P             I2P\n",
      "6           I2P             I2P\n",
      "7           VPN             VPN\n",
      "8       ZERONET         ZERONET\n",
      "9           VPN             VPN\n",
      "10      ZERONET         ZERONET\n",
      "11          VPN             VPN\n",
      "12      ZERONET         ZERONET\n",
      "13      ZERONET         ZERONET\n",
      "14          I2P             I2P\n",
      "15          TOR             TOR\n",
      "16      ZERONET         ZERONET\n",
      "17      ZERONET         ZERONET\n",
      "18          TOR             TOR\n",
      "19          VPN             VPN\n",
      "20      ZERONET         ZERONET\n",
      "21          TOR             TOR\n",
      "22          I2P             I2P\n",
      "23      ZERONET         ZERONET\n",
      "24          VPN             VPN\n",
      "25          I2P             I2P\n",
      "26          TOR             TOR\n",
      "27          TOR             TOR\n",
      "28          I2P             I2P\n",
      "29          I2P             I2P\n",
      "30          VPN             VPN\n",
      "31          VPN             VPN\n",
      "32          VPN             VPN\n",
      "33          VPN             VPN\n",
      "34          I2P             I2P\n",
      "35      ZERONET         ZERONET\n",
      "36      ZERONET         ZERONET\n",
      "37          TOR             TOR\n",
      "38      ZERONET         ZERONET\n",
      "39      ZERONET         ZERONET\n",
      "40          I2P             I2P\n",
      "41          I2P             I2P\n",
      "42      ZERONET         ZERONET\n",
      "43          I2P             I2P\n",
      "44      ZERONET         ZERONET\n",
      "45          I2P             I2P\n",
      "46          TOR             TOR\n",
      "47      ZERONET         ZERONET\n",
      "48          VPN             VPN\n",
      "49          I2P             I2P\n"
     ]
    }
   ],
   "source": [
    "import pandas as pd\n",
    "import numpy as np\n",
    "import joblib\n",
    "\n",
    "# Load the same dataset\n",
    "df = pd.read_csv(r\"C:\\Users\\HP\\OneDrive\\Desktop\\BCC_DARKNET_PCA_MODEL\\data\\MultiTotalDS.csv\")\n",
    "\n",
    "# Drop unnecessary columns\n",
    "drop_cols = ['flow_id','timestamp','src_ip','dst_ip']\n",
    "df.drop(columns=drop_cols, inplace=True, errors='ignore')\n",
    "\n",
    "# Clean data\n",
    "df = df.replace([np.inf, -np.inf], np.nan)\n",
    "df = df.fillna(df.median(numeric_only=True))\n",
    "\n",
    "# Select features & target\n",
    "X = df.drop('label', axis=1)\n",
    "y = df['label']\n",
    "\n",
    "# Encode target using saved LabelEncoder\n",
    "y_encoded = encoder.transform(y)\n",
    "\n",
    "# Convert object columns to category codes (same as training)\n",
    "for col in X.select_dtypes(include=['object']).columns:\n",
    "    X[col] = X[col].astype('category').cat.codes\n",
    "\n",
    "# Take 5 random rows for testing\n",
    "sample = X.sample(50, random_state=42)\n",
    "sample_labels = y.loc[sample.index]\n",
    "\n",
    "# Scale\n",
    "X_scaled = scaler.transform(sample)\n",
    "\n",
    "# Predict\n",
    "y_pred_encoded = model.predict(X_scaled)\n",
    "y_pred = encoder.inverse_transform(y_pred_encoded)\n",
    "\n",
    "# Compare\n",
    "results = pd.DataFrame({\n",
    "    \"Actual Label\": sample_labels.values,\n",
    "    \"Predicted Label\": y_pred\n",
    "})\n",
    "\n",
    "print(\"\\n🎯 Prediction Results:\")\n",
    "print(results)\n"
   ]
  },
  {
   "cell_type": "code",
   "execution_count": null,
   "id": "228253b0-1815-40c6-9a98-d74337262da4",
   "metadata": {},
   "outputs": [],
   "source": []
  }
 ],
 "metadata": {
  "kernelspec": {
   "display_name": "Python 3 (ipykernel)",
   "language": "python",
   "name": "python3"
  },
  "language_info": {
   "codemirror_mode": {
    "name": "ipython",
    "version": 3
   },
   "file_extension": ".py",
   "mimetype": "text/x-python",
   "name": "python",
   "nbconvert_exporter": "python",
   "pygments_lexer": "ipython3",
   "version": "3.12.7"
  }
 },
 "nbformat": 4,
 "nbformat_minor": 5
}
